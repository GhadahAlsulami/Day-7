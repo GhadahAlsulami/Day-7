{
 "cells": [
  {
   "cell_type": "markdown",
   "id": "d2d83482",
   "metadata": {},
   "source": [
    "# Import Pandas Library"
   ]
  },
  {
   "cell_type": "code",
   "execution_count": 2,
   "id": "b62499b7",
   "metadata": {},
   "outputs": [],
   "source": [
    "import pandas as pd\n",
    "import numpy as np"
   ]
  },
  {
   "cell_type": "markdown",
   "id": "b34eff8d",
   "metadata": {},
   "source": [
    "# Data Structures"
   ]
  },
  {
   "cell_type": "markdown",
   "id": "895286dc",
   "metadata": {},
   "source": [
    "## First: Series"
   ]
  },
  {
   "cell_type": "code",
   "execution_count": 5,
   "id": "a7b6329d",
   "metadata": {},
   "outputs": [
    {
     "data": {
      "text/plain": [
       "dtype('int64')"
      ]
     },
     "execution_count": 5,
     "metadata": {},
     "output_type": "execute_result"
    }
   ],
   "source": [
    "lst = [1,2,3,4,5] \n",
    "s = pd.Series(lst)\n",
    "s\n",
    "type(s)# نوع السيرايس\n",
    "s.dtype #نوع الديتا اللي داخل السيرايس\n"
   ]
  },
  {
   "cell_type": "code",
   "execution_count": 6,
   "id": "045605a7",
   "metadata": {},
   "outputs": [
    {
     "data": {
      "text/plain": [
       "0    1.0\n",
       "1    2.0\n",
       "2    3.0\n",
       "3    4.0\n",
       "4    5.0\n",
       "dtype: float64"
      ]
     },
     "execution_count": 6,
     "metadata": {},
     "output_type": "execute_result"
    }
   ],
   "source": [
    "# change dtype\n",
    "s = pd.Series(lst, dtype= float)\n",
    "s"
   ]
  },
  {
   "cell_type": "code",
   "execution_count": 7,
   "id": "fbc2a877",
   "metadata": {},
   "outputs": [
    {
     "data": {
      "text/plain": [
       "A    1\n",
       "B    2\n",
       "C    3\n",
       "D    4\n",
       "E    5\n",
       "dtype: int64"
      ]
     },
     "execution_count": 7,
     "metadata": {},
     "output_type": "execute_result"
    }
   ],
   "source": [
    "# choose indexes لازم يكون يونيك ومو لازم يكون 0 1 2 \n",
    "s = pd.Series(lst, index=['A', 'B', 'C', 'D', 'E' ])\n",
    "s"
   ]
  },
  {
   "cell_type": "code",
   "execution_count": 8,
   "id": "1a13f14b",
   "metadata": {},
   "outputs": [
    {
     "data": {
      "text/plain": [
       "10    Nourah\n",
       "12     Sarah\n",
       "13     Ahmed\n",
       "14      Lama\n",
       "dtype: object"
      ]
     },
     "execution_count": 8,
     "metadata": {},
     "output_type": "execute_result"
    }
   ],
   "source": [
    "index = [10, 12, 13, 14]\n",
    "names = ['Nourah', 'Sarah', 'Ahmed', 'Lama']\n",
    "s2 = pd.Series(names, index=index) # names - is data type نوعه ديتا \n",
    "s2"
   ]
  },
  {
   "cell_type": "code",
   "execution_count": 9,
   "id": "a59bffb7",
   "metadata": {},
   "outputs": [
    {
     "data": {
      "text/plain": [
       "10    Nourah\n",
       "12     Sarah\n",
       "13     Ahmed\n",
       "14      Lama\n",
       "dtype: object"
      ]
     },
     "execution_count": 9,
     "metadata": {},
     "output_type": "execute_result"
    }
   ],
   "source": [
    "# use dictionary  الدكشنري اسهل\n",
    "names = {10: 'Nourah', 12: 'Sarah', 13: 'Ahmed', 14: 'Lama'}\n",
    "s3 = pd.Series(names)\n",
    "s3"
   ]
  },
  {
   "cell_type": "code",
   "execution_count": 10,
   "id": "8c1b4d6c",
   "metadata": {},
   "outputs": [
    {
     "data": {
      "text/plain": [
       "10    Nourah\n",
       "20     Sarah\n",
       "30     Ahmed\n",
       "40      Lama\n",
       "dtype: object"
      ]
     },
     "execution_count": 10,
     "metadata": {},
     "output_type": "execute_result"
    }
   ],
   "source": [
    "# change the indexes\n",
    "s3.index = [10, 20, 30, 40]\n",
    "s3"
   ]
  },
  {
   "cell_type": "code",
   "execution_count": 11,
   "id": "16b9678e-fe80-4d15-863f-f48d16cd0060",
   "metadata": {},
   "outputs": [
    {
     "data": {
      "text/plain": [
       "<bound method IndexOpsMixin.tolist of 10    Nourah\n",
       "20     Sarah\n",
       "30     Ahmed\n",
       "40      Lama\n",
       "dtype: object>"
      ]
     },
     "execution_count": 11,
     "metadata": {},
     "output_type": "execute_result"
    }
   ],
   "source": [
    "s3.values # هذي الحين اراي لو ابغا احولها ل لست  بايثون \n",
    "s3.to_list"
   ]
  },
  {
   "cell_type": "code",
   "execution_count": 12,
   "id": "90bfba6a",
   "metadata": {},
   "outputs": [],
   "source": [
    "fruit1 = {'Apple': 40 , 'Banana': 50, 'Orange': 60}\n",
    "ser1 = pd.Series(fruit1)\n",
    "\n",
    "fruit2 = {'Apple': 30 , 'Strawberry': 20, 'Orange': 20}\n",
    "ser2 = pd.Series(fruit2)\n"
   ]
  },
  {
   "cell_type": "code",
   "execution_count": 13,
   "id": "b5235173",
   "metadata": {},
   "outputs": [
    {
     "data": {
      "text/plain": [
       "10    Nourah\n",
       "20     Sarah\n",
       "30     Ahmed\n",
       "40      Lama\n",
       "dtype: object"
      ]
     },
     "execution_count": 13,
     "metadata": {},
     "output_type": "execute_result"
    }
   ],
   "source": [
    "s3"
   ]
  },
  {
   "cell_type": "code",
   "execution_count": 14,
   "id": "dda50b11-0a03-4c7e-b037-fe75cb3575e6",
   "metadata": {},
   "outputs": [
    {
     "data": {
      "text/plain": [
       "10    Nourah\n",
       "20     Sarah\n",
       "30     Ahmed\n",
       "dtype: object"
      ]
     },
     "execution_count": 14,
     "metadata": {},
     "output_type": "execute_result"
    }
   ],
   "source": [
    "s3[:-1]\n",
    "# من الاول إلى الاخير"
   ]
  },
  {
   "cell_type": "code",
   "execution_count": 15,
   "id": "a05f8c9c-84e6-4d74-9de8-d3c59a4f25db",
   "metadata": {},
   "outputs": [
    {
     "data": {
      "text/plain": [
       "20    Sarah\n",
       "30    Ahmed\n",
       "40     Lama\n",
       "dtype: object"
      ]
     },
     "execution_count": 15,
     "metadata": {},
     "output_type": "execute_result"
    }
   ],
   "source": [
    "s3.iloc[1:]"
   ]
  },
  {
   "cell_type": "code",
   "execution_count": 16,
   "id": "07e2ca69",
   "metadata": {},
   "outputs": [
    {
     "name": "stdout",
     "output_type": "stream",
     "text": [
      "Sarah\n"
     ]
    }
   ],
   "source": [
    "# Selecting\n",
    "print(s3[20]) # index = 20"
   ]
  },
  {
   "cell_type": "code",
   "execution_count": 17,
   "id": "55ecedd1",
   "metadata": {},
   "outputs": [
    {
     "data": {
      "text/plain": [
       "10    Nourah\n",
       "20     Sarah\n",
       "30     Ahmed\n",
       "dtype: object"
      ]
     },
     "execution_count": 17,
     "metadata": {},
     "output_type": "execute_result"
    }
   ],
   "source": [
    "# Slicing like numpy [start, end(execluded), gap]\n",
    "# Note that the slice does not use the index labels as references, but the position\n",
    "s3[:3] # from position 0 to 2"
   ]
  },
  {
   "cell_type": "code",
   "execution_count": 18,
   "id": "b33140b3",
   "metadata": {},
   "outputs": [
    {
     "data": {
      "text/plain": [
       "10    Nourah\n",
       "20     Sarah\n",
       "30     Ahmed\n",
       "dtype: object"
      ]
     },
     "execution_count": 18,
     "metadata": {},
     "output_type": "execute_result"
    }
   ],
   "source": [
    "s3[:-1] # from 0 to last item(execluded)"
   ]
  },
  {
   "cell_type": "code",
   "execution_count": 19,
   "id": "1a9360ac",
   "metadata": {},
   "outputs": [
    {
     "ename": "AttributeError",
     "evalue": "'Series' object has no attribute 'append'",
     "output_type": "error",
     "traceback": [
      "\u001b[1;31m---------------------------------------------------------------------------\u001b[0m",
      "\u001b[1;31mAttributeError\u001b[0m                            Traceback (most recent call last)",
      "\u001b[1;32m~\\AppData\\Local\\Temp\\ipykernel_2512\\485914924.py\u001b[0m in \u001b[0;36m?\u001b[1;34m()\u001b[0m\n\u001b[0;32m      1\u001b[0m \u001b[1;31m# Add elements\u001b[0m\u001b[1;33m\u001b[0m\u001b[1;33m\u001b[0m\u001b[0m\n\u001b[0;32m      2\u001b[0m \u001b[0ms4\u001b[0m \u001b[1;33m=\u001b[0m \u001b[0mpd\u001b[0m\u001b[1;33m.\u001b[0m\u001b[0mSeries\u001b[0m\u001b[1;33m(\u001b[0m\u001b[1;33m{\u001b[0m\u001b[1;36m50\u001b[0m\u001b[1;33m:\u001b[0m \u001b[1;34m'Ahmed'\u001b[0m\u001b[1;33m,\u001b[0m \u001b[1;36m60\u001b[0m\u001b[1;33m:\u001b[0m \u001b[1;34m'Nada'\u001b[0m\u001b[1;33m}\u001b[0m\u001b[1;33m)\u001b[0m\u001b[1;33m\u001b[0m\u001b[1;33m\u001b[0m\u001b[0m\n\u001b[1;32m----> 3\u001b[1;33m \u001b[0ms3\u001b[0m \u001b[1;33m=\u001b[0m \u001b[0ms3\u001b[0m\u001b[1;33m.\u001b[0m\u001b[0mappend\u001b[0m\u001b[1;33m(\u001b[0m\u001b[0ms4\u001b[0m\u001b[1;33m)\u001b[0m\u001b[1;33m\u001b[0m\u001b[1;33m\u001b[0m\u001b[0m\n\u001b[0m\u001b[0;32m      4\u001b[0m \u001b[0ms3\u001b[0m\u001b[1;33m\u001b[0m\u001b[1;33m\u001b[0m\u001b[0m\n\u001b[0;32m      5\u001b[0m \u001b[1;31m# fun - فيه فنكشن تبدأ ب _ معناها تكون بروتكتد\u001b[0m\u001b[1;33m\u001b[0m\u001b[1;33m\u001b[0m\u001b[0m\n",
      "\u001b[1;32m~\\anaconda3\\Lib\\site-packages\\pandas\\core\\generic.py\u001b[0m in \u001b[0;36m?\u001b[1;34m(self, name)\u001b[0m\n\u001b[0;32m   6295\u001b[0m             \u001b[1;32mand\u001b[0m \u001b[0mname\u001b[0m \u001b[1;32mnot\u001b[0m \u001b[1;32min\u001b[0m \u001b[0mself\u001b[0m\u001b[1;33m.\u001b[0m\u001b[0m_accessors\u001b[0m\u001b[1;33m\u001b[0m\u001b[1;33m\u001b[0m\u001b[0m\n\u001b[0;32m   6296\u001b[0m             \u001b[1;32mand\u001b[0m \u001b[0mself\u001b[0m\u001b[1;33m.\u001b[0m\u001b[0m_info_axis\u001b[0m\u001b[1;33m.\u001b[0m\u001b[0m_can_hold_identifiers_and_holds_name\u001b[0m\u001b[1;33m(\u001b[0m\u001b[0mname\u001b[0m\u001b[1;33m)\u001b[0m\u001b[1;33m\u001b[0m\u001b[1;33m\u001b[0m\u001b[0m\n\u001b[0;32m   6297\u001b[0m         \u001b[1;33m)\u001b[0m\u001b[1;33m:\u001b[0m\u001b[1;33m\u001b[0m\u001b[1;33m\u001b[0m\u001b[0m\n\u001b[0;32m   6298\u001b[0m             \u001b[1;32mreturn\u001b[0m \u001b[0mself\u001b[0m\u001b[1;33m[\u001b[0m\u001b[0mname\u001b[0m\u001b[1;33m]\u001b[0m\u001b[1;33m\u001b[0m\u001b[1;33m\u001b[0m\u001b[0m\n\u001b[1;32m-> 6299\u001b[1;33m         \u001b[1;32mreturn\u001b[0m \u001b[0mobject\u001b[0m\u001b[1;33m.\u001b[0m\u001b[0m__getattribute__\u001b[0m\u001b[1;33m(\u001b[0m\u001b[0mself\u001b[0m\u001b[1;33m,\u001b[0m \u001b[0mname\u001b[0m\u001b[1;33m)\u001b[0m\u001b[1;33m\u001b[0m\u001b[1;33m\u001b[0m\u001b[0m\n\u001b[0m",
      "\u001b[1;31mAttributeError\u001b[0m: 'Series' object has no attribute 'append'"
     ]
    }
   ],
   "source": [
    "# Add elements \n",
    "s4 = pd.Series({50: 'Ahmed', 60: 'Nada'})\n",
    "s3 = s3.append(s4)\n",
    "s3\n",
    "# fun - فيه فنكشن تبدأ ب _ معناها تكون بروتكتد"
   ]
  },
  {
   "cell_type": "code",
   "execution_count": null,
   "id": "5ff63aa6",
   "metadata": {},
   "outputs": [],
   "source": [
    "x = pd.Series(['a', 'b'])\n",
    "y = pd.Series(['c', 'd'])\n",
    "z = pd.concat([x, y])\n",
    "z"
   ]
  },
  {
   "cell_type": "code",
   "execution_count": null,
   "id": "4297e594",
   "metadata": {},
   "outputs": [],
   "source": [
    "z = pd.concat([x, y],ignore_index=True )\n",
    "z"
   ]
  },
  {
   "cell_type": "code",
   "execution_count": null,
   "id": "cd890f6a",
   "metadata": {},
   "outputs": [],
   "source": [
    "# delete an element \n",
    "s3.drop(60)"
   ]
  },
  {
   "cell_type": "code",
   "execution_count": null,
   "id": "634912a1",
   "metadata": {},
   "outputs": [],
   "source": [
    "s3"
   ]
  },
  {
   "cell_type": "code",
   "execution_count": null,
   "id": "4a75d40a",
   "metadata": {},
   "outputs": [],
   "source": [
    "# drop duplicate elements\n",
    "s3.drop_duplicates()"
   ]
  },
  {
   "cell_type": "code",
   "execution_count": null,
   "id": "02fe974c",
   "metadata": {},
   "outputs": [],
   "source": [
    "s"
   ]
  },
  {
   "cell_type": "code",
   "execution_count": null,
   "id": "1fdb4cf4",
   "metadata": {},
   "outputs": [],
   "source": [
    "s4 = s.copy()\n",
    "s4"
   ]
  },
  {
   "cell_type": "code",
   "execution_count": null,
   "id": "0285d337",
   "metadata": {
    "scrolled": true
   },
   "outputs": [],
   "source": [
    "s4 = s4*3\n",
    "s4"
   ]
  },
  {
   "cell_type": "code",
   "execution_count": null,
   "id": "f12a7438",
   "metadata": {},
   "outputs": [],
   "source": [
    "s4.add(s)"
   ]
  },
  {
   "cell_type": "code",
   "execution_count": null,
   "id": "359fd5ba",
   "metadata": {},
   "outputs": [],
   "source": [
    "s5 = pd.Series({'A': 6, 'B': 8})\n",
    "s5 = s5.add(s)"
   ]
  },
  {
   "cell_type": "code",
   "execution_count": null,
   "id": "189fd606",
   "metadata": {},
   "outputs": [],
   "source": [
    "s5 # you have to save the result"
   ]
  },
  {
   "cell_type": "code",
   "execution_count": null,
   "id": "a1cc30a2",
   "metadata": {},
   "outputs": [],
   "source": [
    "s4.sub(s)"
   ]
  },
  {
   "cell_type": "code",
   "execution_count": null,
   "id": "8c12c3e1",
   "metadata": {},
   "outputs": [],
   "source": [
    "s4.mul(s)"
   ]
  },
  {
   "cell_type": "code",
   "execution_count": null,
   "id": "8d3b5191",
   "metadata": {},
   "outputs": [],
   "source": [
    "s4.div(s)"
   ]
  },
  {
   "cell_type": "markdown",
   "id": "d3344287",
   "metadata": {},
   "source": [
    "## Second: DataFrame"
   ]
  },
  {
   "cell_type": "markdown",
   "id": "ba3ae296",
   "metadata": {},
   "source": [
    "### A- Creating a new DataFrame from the scratch"
   ]
  },
  {
   "cell_type": "code",
   "execution_count": null,
   "id": "99f948c0",
   "metadata": {},
   "outputs": [],
   "source": [
    "data = {'SalesPerson': ['Kathey', 'Michael', 'William', 'Kathey', 'William', 'Kathey', 'Michael'],\n",
    "        'Region': ['East', 'West', 'North', 'South', 'North', 'North', 'East'],\n",
    "        'OrderAmount': [600, 700, 400, 500, 400, 700, 800],\n",
    "        'Month': ['Jan', 'Feb', 'Feb', 'Mar', 'May', 'Apr', 'May'],\n",
    "        'isAccepted': [True, False, False, True, True, True, False]\n",
    "       }\n",
    "\n",
    "SalesDF = pd.DataFrame(data)\n",
    "SalesDF   "
   ]
  },
  {
   "cell_type": "code",
   "execution_count": null,
   "id": "dc72ac1c",
   "metadata": {},
   "outputs": [],
   "source": [
    "data = {'year': [2010, 2011, 2012, 2010, 2011, 2012, 2010, 2011, 2012],\n",
    "        'team': ['FCBarcelona', 'FCBarcelona', 'FCBarcelona', 'RMadrid', 'RMadrid', 'RMadrid', 'ValenciaCF',\n",
    "                 'ValenciaCF', 'ValenciaCF'],\n",
    "        'wins':   [30, 28, 32, 29, 32, 26, 21, 17, 19],\n",
    "        'draws':  [6, 7, 4, 5, 4, 7, 8, 10, 8],\n",
    "        'losses': [2, 3, 2, 4, 2, 5, 9, 11, 11]}\n",
    "\n",
    "football = pd.DataFrame(data)\n",
    "football   "
   ]
  },
  {
   "cell_type": "markdown",
   "id": "19fd01d2",
   "metadata": {},
   "source": [
    "### B- Reading tabular data"
   ]
  },
  {
   "cell_type": "code",
   "execution_count": null,
   "id": "5eec50b0",
   "metadata": {},
   "outputs": [],
   "source": [
    "edu = pd.read_csv('educ_figdp_1_Data.csv')\n",
    "edu"
   ]
  },
  {
   "cell_type": "code",
   "execution_count": null,
   "id": "bb8768d7",
   "metadata": {},
   "outputs": [],
   "source": [
    "edu.dtypes"
   ]
  },
  {
   "cell_type": "markdown",
   "id": "18043292",
   "metadata": {},
   "source": [
    "# Viewing Data"
   ]
  },
  {
   "cell_type": "code",
   "execution_count": null,
   "id": "f8ab3251",
   "metadata": {},
   "outputs": [],
   "source": [
    "edu.head() #first rows that are listed"
   ]
  },
  {
   "cell_type": "code",
   "execution_count": null,
   "id": "bf8365c4",
   "metadata": {},
   "outputs": [],
   "source": [
    "edu.head(3)"
   ]
  },
  {
   "cell_type": "code",
   "execution_count": null,
   "id": "df79ab6f-c0d5-4f11-81bf-3a1f686d360c",
   "metadata": {},
   "outputs": [],
   "source": [
    "edu.shape"
   ]
  },
  {
   "cell_type": "code",
   "execution_count": null,
   "id": "fa3a1ff4",
   "metadata": {},
   "outputs": [],
   "source": [
    "edu.tail() #last rows that are listed"
   ]
  },
  {
   "cell_type": "code",
   "execution_count": null,
   "id": "880a5117",
   "metadata": {},
   "outputs": [],
   "source": [
    "edu.columns"
   ]
  },
  {
   "cell_type": "code",
   "execution_count": null,
   "id": "92048c15-46c4-4b4f-8b0c-832955323bec",
   "metadata": {},
   "outputs": [],
   "source": [
    "edu.columns ="
   ]
  },
  {
   "cell_type": "code",
   "execution_count": null,
   "id": "3a4b16fa",
   "metadata": {},
   "outputs": [],
   "source": [
    "edu.columns[0]"
   ]
  },
  {
   "cell_type": "code",
   "execution_count": null,
   "id": "16f8c33d",
   "metadata": {},
   "outputs": [],
   "source": [
    "edu.index"
   ]
  },
  {
   "cell_type": "code",
   "execution_count": null,
   "id": "f44e0d1e",
   "metadata": {},
   "outputs": [],
   "source": [
    "edu.values # values of any DataFrame can be retrieved as a Python array by calling its values attribute."
   ]
  },
  {
   "cell_type": "code",
   "execution_count": null,
   "id": "aa74840f",
   "metadata": {},
   "outputs": [],
   "source": [
    "# quick statistical information\n",
    "edu.describe()"
   ]
  },
  {
   "cell_type": "code",
   "execution_count": null,
   "id": "829ba325",
   "metadata": {},
   "outputs": [],
   "source": [
    "edu.describe(include=[object])"
   ]
  },
  {
   "cell_type": "code",
   "execution_count": null,
   "id": "28ea90d4",
   "metadata": {},
   "outputs": [],
   "source": [
    "edu.describe(exclude=\"number\")"
   ]
  },
  {
   "cell_type": "code",
   "execution_count": null,
   "id": "b860af10",
   "metadata": {},
   "outputs": [],
   "source": [
    "edu.T"
   ]
  },
  {
   "cell_type": "markdown",
   "id": "40330a39",
   "metadata": {},
   "source": [
    "# Selection"
   ]
  },
  {
   "cell_type": "code",
   "execution_count": null,
   "id": "8c492702",
   "metadata": {},
   "outputs": [],
   "source": [
    "edu['Value'] # The result will be a Series data structure, not a DataFrame, because only one column is retrieved."
   ]
  },
  {
   "cell_type": "code",
   "execution_count": null,
   "id": "fd5aa991",
   "metadata": {},
   "outputs": [],
   "source": [
    "edu[['Value','GEO']]"
   ]
  },
  {
   "cell_type": "code",
   "execution_count": null,
   "id": "7e92fc9d",
   "metadata": {},
   "outputs": [],
   "source": [
    "edu[10:14] # select a subset of rows from a DataFrame"
   ]
  },
  {
   "cell_type": "code",
   "execution_count": null,
   "id": "0864cd4f",
   "metadata": {},
   "outputs": [],
   "source": [
    "edu.loc[90:94, ['TIME', 'GEO']]  #[rows, columns]"
   ]
  },
  {
   "cell_type": "code",
   "execution_count": null,
   "id": "42a20215",
   "metadata": {},
   "outputs": [],
   "source": [
    "edu.loc[90:94,:] #[rows, columns=all]"
   ]
  },
  {
   "cell_type": "code",
   "execution_count": null,
   "id": "0a4c6638",
   "metadata": {},
   "outputs": [],
   "source": [
    "edu.sample(10,random_state=23) # random sample >> 23 seed for random number generator.\n",
    "# seed makes the random numbers predictable"
   ]
  },
  {
   "cell_type": "markdown",
   "id": "d3a28deb",
   "metadata": {},
   "source": [
    "# Filtering Data"
   ]
  },
  {
   "cell_type": "code",
   "execution_count": null,
   "id": "75abbe07",
   "metadata": {},
   "outputs": [],
   "source": [
    "edu['Value'] > 6.5"
   ]
  },
  {
   "cell_type": "code",
   "execution_count": null,
   "id": "984c4720",
   "metadata": {},
   "outputs": [],
   "source": [
    "# Another way of selection\n",
    "# by applying Boolean indexing. This indexing is commonly known as a filter. \n",
    "edu[edu['Value'] > 6.5]"
   ]
  },
  {
   "cell_type": "markdown",
   "id": "d9868daa",
   "metadata": {},
   "source": [
    "# Filtering Missing and dupliacated Values"
   ]
  },
  {
   "cell_type": "code",
   "execution_count": null,
   "id": "65beca3b-a224-4138-a89a-3434258f751f",
   "metadata": {},
   "outputs": [],
   "source": [
    "edu['Value'].isnull()#.sum()"
   ]
  },
  {
   "cell_type": "code",
   "execution_count": null,
   "id": "b9539251",
   "metadata": {},
   "outputs": [],
   "source": [
    "edu[edu['Value'].isnull()].head()"
   ]
  },
  {
   "cell_type": "code",
   "execution_count": null,
   "id": "fd9c0ac8-8102-40c4-8448-599cc4d10943",
   "metadata": {},
   "outputs": [],
   "source": [
    "edu[edu.duplicated('Value')]"
   ]
  },
  {
   "cell_type": "code",
   "execution_count": null,
   "id": "502caa46-5e1a-4d28-bd82-798e96e0c4e4",
   "metadata": {},
   "outputs": [],
   "source": [
    "edu.drop_duplicates('Value')"
   ]
  },
  {
   "cell_type": "markdown",
   "id": "71dc179a",
   "metadata": {},
   "source": [
    "# Manipulating Data"
   ]
  },
  {
   "cell_type": "code",
   "execution_count": null,
   "id": "53db1656-00a3-48e6-9ecd-64dedc0060aa",
   "metadata": {},
   "outputs": [],
   "source": [
    "edu.head()"
   ]
  },
  {
   "cell_type": "code",
   "execution_count": null,
   "id": "52615e8f",
   "metadata": {},
   "outputs": [],
   "source": [
    "edu['Value'].head()"
   ]
  },
  {
   "cell_type": "code",
   "execution_count": null,
   "id": "964cd2fa",
   "metadata": {},
   "outputs": [],
   "source": [
    "edu['Value'] / 100 # you can apply it by one step"
   ]
  },
  {
   "cell_type": "code",
   "execution_count": null,
   "id": "ab942e40",
   "metadata": {},
   "outputs": [],
   "source": [
    "# we can apply any function to a DataFrame or Series\n",
    "edu['Value'].apply(np.sqrt) # sqrt function from the numpy library"
   ]
  },
  {
   "cell_type": "code",
   "execution_count": null,
   "id": "56997987-260a-4a6a-85a3-90b82e56456f",
   "metadata": {},
   "outputs": [],
   "source": [
    "edu['Value'].map(np.sqrt)"
   ]
  },
  {
   "cell_type": "code",
   "execution_count": null,
   "id": "9b116698",
   "metadata": {},
   "outputs": [],
   "source": [
    "def f2(x):\n",
    "    return x**2\n",
    "edu['Value'].apply(f2)"
   ]
  },
  {
   "cell_type": "code",
   "execution_count": null,
   "id": "4f465a76",
   "metadata": {},
   "outputs": [],
   "source": [
    "edu['Value'].apply(lambda d: d**2)"
   ]
  },
  {
   "cell_type": "code",
   "execution_count": null,
   "id": "3bea8b53-d52f-4493-9844-375172da96a9",
   "metadata": {},
   "outputs": [],
   "source": [
    "# add a new column to a DataFrame\n",
    "edu['ValueNorm'] ="
   ]
  },
  {
   "cell_type": "code",
   "execution_count": null,
   "id": "ce5441ac-80d0-4e33-a3c2-c0f43bedf170",
   "metadata": {},
   "outputs": [],
   "source": [
    "edu[['Value','TIME']].apply(lambda)"
   ]
  },
  {
   "cell_type": "code",
   "execution_count": null,
   "id": "507ea32f",
   "metadata": {},
   "outputs": [],
   "source": [
    "# add a new column to a DataFrame\n",
    "edu['ValueNorm'] = edu['Value'] / edu['Value'].max()\n",
    "edu.tail()"
   ]
  },
  {
   "cell_type": "code",
   "execution_count": null,
   "id": "c8980ca1",
   "metadata": {},
   "outputs": [],
   "source": [
    "edu"
   ]
  },
  {
   "cell_type": "code",
   "execution_count": null,
   "id": "8fa3865d",
   "metadata": {
    "scrolled": true
   },
   "outputs": [],
   "source": [
    "# remove this column from the DataFrame\n",
    "# rows(axis=0), columns(axis=1) \n",
    "# inplace = False (default), inplace=True (change original DataFrame)\n",
    "edu.drop('ValueNorm', axis=1, inplace=True)\n",
    "edu.head()"
   ]
  },
  {
   "cell_type": "code",
   "execution_count": null,
   "id": "d9286a40",
   "metadata": {},
   "outputs": [],
   "source": [
    "edu"
   ]
  },
  {
   "cell_type": "code",
   "execution_count": null,
   "id": "3e563a73",
   "metadata": {},
   "outputs": [],
   "source": [
    "# insert a new row\n",
    "# ignore_index=True, otherwise the index 0\n",
    "edu = edu.append({'TIME': 2000, 'Value': 5.00, 'GEO': 'a'}, ignore_index=True)\n",
    "edu.tail()"
   ]
  },
  {
   "cell_type": "code",
   "execution_count": null,
   "id": "597e7e24",
   "metadata": {},
   "outputs": [],
   "source": [
    "# remove row(axis=0)\n",
    "# inplace = False (default), inplace=True (change original DataFrame)\n",
    "edu.drop(max(edu.index), axis=0, inplace=True)\n",
    "edu.tail()"
   ]
  },
  {
   "cell_type": "code",
   "execution_count": null,
   "id": "d00987b1",
   "metadata": {},
   "outputs": [],
   "source": [
    "# to clear data frame\n",
    "edu.drop(edu.index, inplace=False)"
   ]
  },
  {
   "cell_type": "markdown",
   "id": "d479bc0d",
   "metadata": {},
   "source": [
    "# Sorting"
   ]
  },
  {
   "cell_type": "code",
   "execution_count": null,
   "id": "287761a3",
   "metadata": {
    "scrolled": true
   },
   "outputs": [],
   "source": [
    "edu.sort_values(by='Value', ascending=False, inplace=True)\n",
    "edu.head()"
   ]
  },
  {
   "cell_type": "code",
   "execution_count": null,
   "id": "9e70e3f9",
   "metadata": {
    "scrolled": true
   },
   "outputs": [],
   "source": [
    "# to return to the original order, we can sort by an index using the sort_index and axis=0\n",
    "edu.sort_index(axis=0, ascending=True, inplace=True)\n",
    "edu.head()"
   ]
  },
  {
   "cell_type": "markdown",
   "id": "afc9029e",
   "metadata": {},
   "source": [
    "# Grouping Data"
   ]
  },
  {
   "cell_type": "code",
   "execution_count": null,
   "id": "ecbcce7d-a201-495b-826f-a35509de402d",
   "metadata": {},
   "outputs": [],
   "source": [
    "# By “group by” we are referring to a process involving one or more of the following steps:\n",
    "# 1. Splitting the data into groups based on some criteria\n",
    "# 2. Applying a function to each group independently\n",
    "# 3. Combining the results into a data structure"
   ]
  },
  {
   "cell_type": "code",
   "execution_count": null,
   "id": "471b6f4d-4854-40b1-9cac-9e2b991c1a49",
   "metadata": {},
   "outputs": [],
   "source": [
    "edu.groupby('GEO')#.mean()"
   ]
  },
  {
   "cell_type": "code",
   "execution_count": null,
   "id": "e7dbe9de",
   "metadata": {
    "scrolled": true
   },
   "outputs": [],
   "source": [
    "# like group by in sql\n",
    "group = edu[['GEO', 'Value']].groupby('GEO').mean()\n",
    "group.head()"
   ]
  },
  {
   "cell_type": "markdown",
   "id": "5b02e33c-1e85-4722-8232-d4f50214fecf",
   "metadata": {},
   "source": [
    "# Merging Data"
   ]
  },
  {
   "cell_type": "code",
   "execution_count": null,
   "id": "a4af4376-3793-49b8-b258-fe60de881d1a",
   "metadata": {},
   "outputs": [],
   "source": [
    "df = pd.DataFrame(np.random.randn(10, 4))"
   ]
  },
  {
   "cell_type": "code",
   "execution_count": null,
   "id": "489c3009-7ce2-4107-a951-81cc26ea41f3",
   "metadata": {},
   "outputs": [],
   "source": [
    "df[:3]"
   ]
  },
  {
   "cell_type": "code",
   "execution_count": null,
   "id": "44bfdbe6-3231-47ba-a59c-1694facd16a2",
   "metadata": {},
   "outputs": [],
   "source": [
    "df[3:7]"
   ]
  },
  {
   "cell_type": "code",
   "execution_count": null,
   "id": "93d207c5-bae3-4ca4-9001-ed10ed504993",
   "metadata": {},
   "outputs": [],
   "source": [
    "df[7:]"
   ]
  },
  {
   "cell_type": "code",
   "execution_count": null,
   "id": "763e3cab-8042-4fc8-a022-e014261517b0",
   "metadata": {},
   "outputs": [],
   "source": [
    "pd.concat()"
   ]
  },
  {
   "cell_type": "code",
   "execution_count": null,
   "id": "4fc7166a-1988-4070-b923-e5c8f0a562ff",
   "metadata": {},
   "outputs": [],
   "source": [
    "pd.merge(left, right, on=\"key\")"
   ]
  },
  {
   "cell_type": "markdown",
   "id": "a7bfc182",
   "metadata": {},
   "source": [
    "# Resources\n",
    "- Chapter 2, Introduction to Data Science by Laura Igual and Santi Seguí\n",
    "    - https://github.com/DataScienceUB/introduction-datascience-python-book \n",
    "- pandas Documentation: https://pandas.pydata.org/"
   ]
  },
  {
   "cell_type": "code",
   "execution_count": null,
   "id": "03d0cef4-cc6a-49fd-8db1-73542703d7a4",
   "metadata": {},
   "outputs": [],
   "source": []
  },
  {
   "cell_type": "code",
   "execution_count": null,
   "id": "3b6a8e0e-cf03-4481-b75c-b5a1cd0b4659",
   "metadata": {},
   "outputs": [],
   "source": []
  },
  {
   "cell_type": "code",
   "execution_count": null,
   "id": "fd2606d5-149c-4cf1-a219-327666069a6a",
   "metadata": {},
   "outputs": [],
   "source": []
  },
  {
   "cell_type": "code",
   "execution_count": null,
   "id": "8e6917da-6f9b-44af-8c64-afe2e976b0b0",
   "metadata": {},
   "outputs": [],
   "source": []
  },
  {
   "cell_type": "code",
   "execution_count": null,
   "id": "988e319a-20d2-4549-a1d8-bf3f465621a2",
   "metadata": {},
   "outputs": [],
   "source": []
  },
  {
   "cell_type": "code",
   "execution_count": null,
   "id": "a2c38f52-c637-415b-ac83-4c21f8ee4e95",
   "metadata": {},
   "outputs": [],
   "source": []
  },
  {
   "cell_type": "code",
   "execution_count": null,
   "id": "a6514ba9-d20f-4b89-8b04-c28c7d010806",
   "metadata": {},
   "outputs": [],
   "source": []
  },
  {
   "cell_type": "code",
   "execution_count": null,
   "id": "abe10d86-003b-4dc3-b622-294a38b297ce",
   "metadata": {},
   "outputs": [],
   "source": []
  },
  {
   "cell_type": "code",
   "execution_count": null,
   "id": "966bce5d-7953-4878-ae53-4fdf584f8b17",
   "metadata": {},
   "outputs": [],
   "source": []
  },
  {
   "cell_type": "code",
   "execution_count": null,
   "id": "75008a01-54bb-4b70-bdb8-c282fdca34cb",
   "metadata": {},
   "outputs": [],
   "source": []
  },
  {
   "cell_type": "code",
   "execution_count": null,
   "id": "c93c4b4e-0404-4227-ac0b-ba4d996781c0",
   "metadata": {},
   "outputs": [],
   "source": []
  },
  {
   "cell_type": "code",
   "execution_count": null,
   "id": "2543780e-4201-4fff-839b-7901fa5ed262",
   "metadata": {},
   "outputs": [],
   "source": []
  },
  {
   "cell_type": "code",
   "execution_count": null,
   "id": "19a2d2b2-db79-428a-b811-5f38323f22b5",
   "metadata": {},
   "outputs": [],
   "source": []
  },
  {
   "cell_type": "code",
   "execution_count": null,
   "id": "6e3f13bb-f8e0-48b6-bd02-14bf4c1093b5",
   "metadata": {},
   "outputs": [],
   "source": []
  },
  {
   "cell_type": "code",
   "execution_count": null,
   "id": "0b424042-b804-4cce-8dfd-1273ce808c56",
   "metadata": {},
   "outputs": [],
   "source": []
  }
 ],
 "metadata": {
  "kernelspec": {
   "display_name": "Python 3 (ipykernel)",
   "language": "python",
   "name": "python3"
  },
  "language_info": {
   "codemirror_mode": {
    "name": "ipython",
    "version": 3
   },
   "file_extension": ".py",
   "mimetype": "text/x-python",
   "name": "python",
   "nbconvert_exporter": "python",
   "pygments_lexer": "ipython3",
   "version": "3.12.4"
  }
 },
 "nbformat": 4,
 "nbformat_minor": 5
}
